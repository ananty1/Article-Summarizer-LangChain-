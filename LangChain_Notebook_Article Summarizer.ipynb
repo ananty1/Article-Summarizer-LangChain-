{
 "cells": [
  {
   "cell_type": "code",
   "execution_count": 6,
   "id": "a51407d2-48c1-4bb1-8575-8ba76b893c4b",
   "metadata": {},
   "outputs": [],
   "source": [
    "# ! langchain_community\n"
   ]
  },
  {
   "cell_type": "code",
   "execution_count": 6,
   "id": "3a2550f4-d324-4671-a498-15e23858f15e",
   "metadata": {},
   "outputs": [],
   "source": [
    "from langchain.document_loaders import TextLoader"
   ]
  },
  {
   "cell_type": "code",
   "execution_count": 7,
   "id": "922b86b5-36da-4196-80ef-6a7006d22703",
   "metadata": {},
   "outputs": [],
   "source": [
    "loader = TextLoader(\"file.txt\")\n",
    "data = loader.load()"
   ]
  },
  {
   "cell_type": "code",
   "execution_count": 11,
   "id": "a1c7f466-aa64-47e7-ace9-e0dda2b02902",
   "metadata": {},
   "outputs": [
    {
     "data": {
      "text/plain": [
       "{'source': 'file.txt'}"
      ]
     },
     "execution_count": 11,
     "metadata": {},
     "output_type": "execute_result"
    }
   ],
   "source": [
    "data[0].metadata"
   ]
  },
  {
   "cell_type": "code",
   "execution_count": 14,
   "id": "5fcff82c-45d2-430b-8f82-efcb96b9245a",
   "metadata": {},
   "outputs": [],
   "source": [
    "# !pip3 install unstructured libmagic python-magic \n",
    "# python-magic-bin"
   ]
  },
  {
   "cell_type": "code",
   "execution_count": 15,
   "id": "4ff4ba82-8bce-4663-b655-7f75b90abc77",
   "metadata": {},
   "outputs": [],
   "source": [
    "from langchain.document_loaders import UnstructuredURLLoader"
   ]
  },
  {
   "cell_type": "code",
   "execution_count": 17,
   "id": "1655d491-be79-45a6-b96e-b4f4b12e71cd",
   "metadata": {},
   "outputs": [],
   "source": [
    "loader = UnstructuredURLLoader(urls=[\n",
    "    \"https://www.cricbuzz.com/profiles/1413/virat-kohli\",\n",
    "    \"https://www.cricbuzz.com/profiles/25/sachin-tendulkar\"\n",
    "])"
   ]
  },
  {
   "cell_type": "code",
   "execution_count": 18,
   "id": "d0458244-339d-4660-8d2f-26c079d175c8",
   "metadata": {},
   "outputs": [
    {
     "data": {
      "text/plain": [
       "2"
      ]
     },
     "execution_count": 18,
     "metadata": {},
     "output_type": "execute_result"
    }
   ],
   "source": [
    "data = loader.load()\n",
    "len(data)"
   ]
  },
  {
   "cell_type": "code",
   "execution_count": 21,
   "id": "09a047df-1f1f-4690-9005-3118b960eb1d",
   "metadata": {},
   "outputs": [
    {
     "data": {
      "text/plain": [
       "{'source': 'https://www.cricbuzz.com/profiles/25/sachin-tendulkar'}"
      ]
     },
     "execution_count": 21,
     "metadata": {},
     "output_type": "execute_result"
    }
   ],
   "source": [
    "data[1].metadata"
   ]
  },
  {
   "cell_type": "code",
   "execution_count": 23,
   "id": "55dee8c8-ddce-462e-8195-a55ce561b7e4",
   "metadata": {},
   "outputs": [],
   "source": [
    "text = \"\"\"\n",
    "Rashmika Mandanna (/rəʃmɪkɑː mənðənɑː/; born 5 April 1996) is an Indian actress who predominantly works in Telugu, Kannada and Hindi films. She has received four SIIMA Awards and a Filmfare Award. One of South India's highest-paid actresses, she was featured in Forbes India's 2024 list of \"30 Under 30\".\n",
    "\n",
    "Rashmika made her acting debut with the Kannada romantic comedy Kirik Party (2016), and found further success in the action picture Anjani Putra and romance Chamak (both 2017). Her first Telugu film release came in the romantic comedy Chalo but the romance Geetha Govindam (both 2018) proved to be a turning point in her career and earned her the Filmfare Critics Award for Best Actress – Telugu. She later played the leading lady in the Telugu action comedies Devadas (2018) and Sarileru Neekevvaru (2020), and the romance Bheeshma (2020). She had her first Tamil release in the action drama Sulthan (2021), and later achieved her top-grosser in the language with the action film Varisu (2023), though her inclination towards androcentric films drew criticism for providing only limited scope to showcase her acting abilities.\n",
    "\n",
    "Rashmika earned wider recognition as a head-strong girl in the action film Pushpa: The Rise (2021). After playing a supporting role in the Telugu period drama Sita Ramam (2022), she expanded to Hindi cinema and had her highest-grossing release with the action drama Animal (2023).\n",
    "\n",
    "In addition to acting, Rashmika serves as the ambassador of several brands and products.\n",
    "\n",
    "Early and personal life\n",
    "Rashmika Mandanna was born on 5 April 1996 to Suman and Madan Mandanna into a Kodava Hindu family in Virajpet, a town in Kodagu district, Karnataka.[1][2] Her father owns a coffee estate and a function hall in her hometown, and her mother is a homemaker.[3] She has a younger sister, Shiman.[4] As a child, Rashmika's family struggled financially, and had difficulties finding a home and paying rent; according to Rashmika, her parents could not afford to buy her toys and the experience has continued to influence her relationship with money.[5]\n",
    "\n",
    "Rashmika attended Coorg Public School, a boarding school in Gonikoppal.[6] During this phase of her life, Rashmika was often misunderstood due to her struggles with communication, making connecting with her peers difficult.[7] Rashmika credits her mother for being stabilising influence in her life and labelled her \"my biggest strength\".[7]\n",
    "\n",
    "Rashmika studied for a bachelor's degree in Psychology, Journalism and English Literature at M. S. Ramaiah College of Arts, Science and Commerce in Bangalore.[8] Despite her parents' initial hesitation towards Rashmika's pursuit of an acting career due to her unassertive personality, her parents granted her permission to go ahead with her plans.[9] In 2014, Rashmika was awarded The Times of India's Clean & Clear Fresh Face that recognizes individuals with the greatest potential for future success;[10] the award was presented to her by Akshay Kumar and she was subsequently made a brand ambassador for Clean & Clear as part of the winning reward.[11][12] This was followed by a brief career in modelling, which Rashmika believed would ease her transition into acting.[12]\n",
    "\n",
    "Rashmika began dating Rakshit Shetty, her co-star in Kirik Party, during the making of the film, and they announced their engagement on 3 July 2017 at a private party in her hometown Virajpet.[13] They ended their engagement in September 2018, citing compatibility issues.[14]\n",
    "\"\"\""
   ]
  },
  {
   "cell_type": "code",
   "execution_count": 24,
   "id": "454d3977-3056-4d9d-b847-2e0e2d2e0135",
   "metadata": {},
   "outputs": [],
   "source": [
    "from langchain.text_splitter import RecursiveCharacterTextSplitter\n",
    "r_splitter = RecursiveCharacterTextSplitter(\n",
    "    separators=[\"\\n\\n\",\"\\n\",\".\", \" \"],\n",
    "    chunk_size=200,\n",
    "    chunk_overlap=0\n",
    ")\n",
    "\n",
    "chunks = r_splitter.split_text(text)"
   ]
  },
  {
   "cell_type": "code",
   "execution_count": 31,
   "id": "5df6accd-a10b-44bd-bf0d-2fa4a7f345fa",
   "metadata": {},
   "outputs": [],
   "source": [
    "## Our Vector Database"
   ]
  },
  {
   "cell_type": "code",
   "execution_count": 30,
   "id": "be62423b-f1bb-4897-a54f-453c9978a2b5",
   "metadata": {},
   "outputs": [],
   "source": [
    "# for chunk in chunks:\n",
    "#     print(len(chunk))\n",
    "\n"
   ]
  },
  {
   "cell_type": "code",
   "execution_count": 59,
   "id": "27986d8a-3f36-4678-a29b-521406b1d14a",
   "metadata": {},
   "outputs": [
    {
     "name": "stdout",
     "output_type": "stream",
     "text": [
      " ········\n"
     ]
    }
   ],
   "source": [
    "# ! pip install faiss-cpu\n",
    "# ! pip install sentence-transformers\n",
    "# !pip install openai\n",
    "# !pip install -U langchain-cohere\n",
    "import getpass\n",
    "import os\n",
    "os.environ[\"COHERE_API_KEY\"] = getpass.getpass()\n",
    "\n"
   ]
  },
  {
   "cell_type": "code",
   "execution_count": 62,
   "id": "7b871dd3-b613-4b20-855d-0365cacb9327",
   "metadata": {},
   "outputs": [],
   "source": [
    "import os\n",
    "# import streamlit as st\n",
    "import pickle\n",
    "import time\n",
    "import langchain\n",
    "# from langchain import OpenAI\n",
    "from langchain_cohere import ChatCohere\n",
    "from langchain.chains import RetrievalQAWithSourcesChain\n",
    "\n",
    "from langchain.chains.qa_with_sources.loading import load_qa_with_sources_chain\n",
    "\n",
    "from langchain.text_splitter import RecursiveCharacterTextSplitter\n",
    "from langchain.document_loaders import UnstructuredURLLoader\n",
    "# from langchain.embeddings import OpenAIEmbeddings\n",
    "from langchain_cohere import CohereEmbeddings\n",
    "from langchain.vectorstores import FAISS"
   ]
  },
  {
   "cell_type": "code",
   "execution_count": 41,
   "id": "3a842f99-6dc3-4a5b-9565-87ccf6e10252",
   "metadata": {},
   "outputs": [],
   "source": []
  },
  {
   "cell_type": "code",
   "execution_count": 64,
   "id": "0b5da27d-d91d-404d-91bf-86917925fa59",
   "metadata": {},
   "outputs": [
    {
     "ename": "NameError",
     "evalue": "name 'Cohere' is not defined",
     "output_type": "error",
     "traceback": [
      "\u001b[0;31m---------------------------------------------------------------------------\u001b[0m",
      "\u001b[0;31mNameError\u001b[0m                                 Traceback (most recent call last)",
      "Cell \u001b[0;32mIn[64], line 2\u001b[0m\n\u001b[1;32m      1\u001b[0m \u001b[38;5;66;03m# llm = OpenAI(temprature = 0.9,max_tokens = 500)\u001b[39;00m\n\u001b[0;32m----> 2\u001b[0m llm \u001b[38;5;241m=\u001b[39m \u001b[43mCohere\u001b[49m(max_tokens\u001b[38;5;241m=\u001b[39m\u001b[38;5;241m256\u001b[39m, temperature\u001b[38;5;241m=\u001b[39m\u001b[38;5;241m0.75\u001b[39m)\n\u001b[1;32m      3\u001b[0m loader \u001b[38;5;241m=\u001b[39m UnstructuredURLLoader(urls\u001b[38;5;241m=\u001b[39m[\n\u001b[1;32m      4\u001b[0m     \u001b[38;5;124m\"\u001b[39m\u001b[38;5;124mhttps://www.cricbuzz.com/profiles/1413/virat-kohli\u001b[39m\u001b[38;5;124m\"\u001b[39m,\n\u001b[1;32m      5\u001b[0m     \u001b[38;5;124m\"\u001b[39m\u001b[38;5;124mhttps://www.cricbuzz.com/profiles/25/sachin-tendulkar\u001b[39m\u001b[38;5;124m\"\u001b[39m\n\u001b[1;32m      6\u001b[0m ])\n\u001b[1;32m      7\u001b[0m data \u001b[38;5;241m=\u001b[39m loader\u001b[38;5;241m.\u001b[39mload()\n",
      "\u001b[0;31mNameError\u001b[0m: name 'Cohere' is not defined"
     ]
    }
   ],
   "source": [
    "# llm = OpenAI(temprature = 0.9,max_tokens = 500)\n",
    "llm = Cohere(max_tokens=256, temperature=0.75)\n",
    "loader = UnstructuredURLLoader(urls=[\n",
    "    \"https://www.cricbuzz.com/profiles/1413/virat-kohli\",\n",
    "    \"https://www.cricbuzz.com/profiles/25/sachin-tendulkar\"\n",
    "])\n",
    "data = loader.load()\n",
    "\n",
    "len(data)"
   ]
  },
  {
   "cell_type": "code",
   "execution_count": 48,
   "id": "541a8c74-efee-4d27-831f-3d2e8bc6adaa",
   "metadata": {},
   "outputs": [
    {
     "data": {
      "text/plain": [
       "478"
      ]
     },
     "execution_count": 48,
     "metadata": {},
     "output_type": "execute_result"
    }
   ],
   "source": [
    "r_splitter = RecursiveCharacterTextSplitter(\n",
    "    chunk_size=100,\n",
    "    chunk_overlap=0\n",
    ")\n",
    "\n",
    "docs=r_splitter.split_documents(data)\n",
    "len(docs)"
   ]
  },
  {
   "cell_type": "code",
   "execution_count": 50,
   "id": "78ddf2e1-22fc-43dc-a35e-243482a88208",
   "metadata": {},
   "outputs": [
    {
     "data": {
      "text/plain": [
       "Document(metadata={'source': 'https://www.cricbuzz.com/profiles/1413/virat-kohli'}, page_content='15th Match, Group B\\n\\nICC Mens East Asia-Pacific T20WCQA\\n\\nVanuatu vs Fiji\\n\\n9th Match')"
      ]
     },
     "execution_count": 50,
     "metadata": {},
     "output_type": "execute_result"
    }
   ],
   "source": [
    "docs[9]"
   ]
  },
  {
   "cell_type": "code",
   "execution_count": 53,
   "id": "3ac5c394-0639-46ab-9b09-949e91583f02",
   "metadata": {},
   "outputs": [],
   "source": [
    "# !pip install tiktoken"
   ]
  },
  {
   "cell_type": "code",
   "execution_count": 63,
   "id": "e7c4b8d1-2677-421b-98e7-3b608a218364",
   "metadata": {},
   "outputs": [],
   "source": [
    "# embeddings = OpenAIEmbeddings()\n",
    "embeddings = CohereEmbeddings(\n",
    "    model=\"embed-english-v3.0\",\n",
    ")\n",
    "vectorindex_openai = FAISS.from_documents(docs,embeddings)"
   ]
  },
  {
   "cell_type": "code",
   "execution_count": 71,
   "id": "296d0fe9-40a0-4ee9-b8c8-c15a82dc9b3c",
   "metadata": {},
   "outputs": [
    {
     "data": {
      "text/plain": [
       "<langchain_community.vectorstores.faiss.FAISS at 0x7f7fc002bc70>"
      ]
     },
     "execution_count": 71,
     "metadata": {},
     "output_type": "execute_result"
    }
   ],
   "source": [
    "vectorindex_openai"
   ]
  },
  {
   "cell_type": "code",
   "execution_count": 74,
   "id": "cf85c240-eaac-4c2e-bc7e-9fcaca9081f0",
   "metadata": {},
   "outputs": [],
   "source": [
    "# import pickle\n",
    "# file_path = \"vector_index.pkl\"\n",
    "# with open(file_path,\"wb\") as f:\n",
    "#     pickle.dump(vectorindex_openai,f)"
   ]
  },
  {
   "cell_type": "code",
   "execution_count": 72,
   "id": "1de0024c-e18e-48ed-9bec-5babfe3fa8cc",
   "metadata": {},
   "outputs": [],
   "source": [
    "chain = RetrievalQAWithSourcesChain.from_llm(llm = llm,retriever=vectorindex_openai.as_retriever())"
   ]
  },
  {
   "cell_type": "code",
   "execution_count": 73,
   "id": "8a55f6e4-17d6-4e27-b992-3d14faadf33c",
   "metadata": {},
   "outputs": [
    {
     "data": {
      "text/plain": [
       "RetrievalQAWithSourcesChain(combine_documents_chain=MapReduceDocumentsChain(llm_chain=LLMChain(prompt=PromptTemplate(input_variables=['context', 'question'], template='Use the following portion of a long document to see if any of the text is relevant to answer the question. \\nReturn any relevant text verbatim.\\n{context}\\nQuestion: {question}\\nRelevant text, if any:'), llm=ChatCohere(client=<cohere.client.Client object at 0x7f7fbffff010>, async_client=<cohere.client.AsyncClient object at 0x7f7fbffff6d0>, cohere_api_key=SecretStr('**********'))), reduce_documents_chain=ReduceDocumentsChain(combine_documents_chain=StuffDocumentsChain(llm_chain=LLMChain(prompt=PromptTemplate(input_variables=['question', 'summaries'], template='Given the following extracted parts of a long document and a question, create a final answer with references (\"SOURCES\"). \\nIf you don\\'t know the answer, just say that you don\\'t know. Don\\'t try to make up an answer.\\nALWAYS return a \"SOURCES\" part in your answer.\\n\\nQUESTION: Which state/country\\'s law governs the interpretation of the contract?\\n=========\\nContent: This Agreement is governed by English law and the parties submit to the exclusive jurisdiction of the English courts in  relation to any dispute (contractual or non-contractual) concerning this Agreement save that either party may apply to any court for an  injunction or other relief to protect its Intellectual Property Rights.\\nSource: 28-pl\\nContent: No Waiver. Failure or delay in exercising any right or remedy under this Agreement shall not constitute a waiver of such (or any other)  right or remedy.\\n\\n11.7 Severability. The invalidity, illegality or unenforceability of any term (or part of a term) of this Agreement shall not affect the continuation  in force of the remainder of the term (if any) and this Agreement.\\n\\n11.8 No Agency. Except as expressly stated otherwise, nothing in this Agreement shall create an agency, partnership or joint venture of any  kind between the parties.\\n\\n11.9 No Third-Party Beneficiaries.\\nSource: 30-pl\\nContent: (b) if Google believes, in good faith, that the Distributor has violated or caused Google to violate any Anti-Bribery Laws (as  defined in Clause 8.5) or that such a violation is reasonably likely to occur,\\nSource: 4-pl\\n=========\\nFINAL ANSWER: This Agreement is governed by English law.\\nSOURCES: 28-pl\\n\\nQUESTION: What did the president say about Michael Jackson?\\n=========\\nContent: Madam Speaker, Madam Vice President, our First Lady and Second Gentleman. Members of Congress and the Cabinet. Justices of the Supreme Court. My fellow Americans.  \\n\\nLast year COVID-19 kept us apart. This year we are finally together again. \\n\\nTonight, we meet as Democrats Republicans and Independents. But most importantly as Americans. \\n\\nWith a duty to one another to the American people to the Constitution. \\n\\nAnd with an unwavering resolve that freedom will always triumph over tyranny. \\n\\nSix days ago, Russia’s Vladimir Putin sought to shake the foundations of the free world thinking he could make it bend to his menacing ways. But he badly miscalculated. \\n\\nHe thought he could roll into Ukraine and the world would roll over. Instead he met a wall of strength he never imagined. \\n\\nHe met the Ukrainian people. \\n\\nFrom President Zelenskyy to every Ukrainian, their fearlessness, their courage, their determination, inspires the world. \\n\\nGroups of citizens blocking tanks with their bodies. Everyone from students to retirees teachers turned soldiers defending their homeland.\\nSource: 0-pl\\nContent: And we won’t stop. \\n\\nWe have lost so much to COVID-19. Time with one another. And worst of all, so much loss of life. \\n\\nLet’s use this moment to reset. Let’s stop looking at COVID-19 as a partisan dividing line and see it for what it is: A God-awful disease.  \\n\\nLet’s stop seeing each other as enemies, and start seeing each other for who we really are: Fellow Americans.  \\n\\nWe can’t change how divided we’ve been. But we can change how we move forward—on COVID-19 and other issues we must face together. \\n\\nI recently visited the New York City Police Department days after the funerals of Officer Wilbert Mora and his partner, Officer Jason Rivera. \\n\\nThey were responding to a 9-1-1 call when a man shot and killed them with a stolen gun. \\n\\nOfficer Mora was 27 years old. \\n\\nOfficer Rivera was 22. \\n\\nBoth Dominican Americans who’d grown up on the same streets they later chose to patrol as police officers. \\n\\nI spoke with their families and told them that we are forever in debt for their sacrifice, and we will carry on their mission to restore the trust and safety every community deserves.\\nSource: 24-pl\\nContent: And a proud Ukrainian people, who have known 30 years  of independence, have repeatedly shown that they will not tolerate anyone who tries to take their country backwards.  \\n\\nTo all Americans, I will be honest with you, as I’ve always promised. A Russian dictator, invading a foreign country, has costs around the world. \\n\\nAnd I’m taking robust action to make sure the pain of our sanctions  is targeted at Russia’s economy. And I will use every tool at our disposal to protect American businesses and consumers. \\n\\nTonight, I can announce that the United States has worked with 30 other countries to release 60 Million barrels of oil from reserves around the world.  \\n\\nAmerica will lead that effort, releasing 30 Million barrels from our own Strategic Petroleum Reserve. And we stand ready to do more if necessary, unified with our allies.  \\n\\nThese steps will help blunt gas prices here at home. And I know the news about what’s happening can seem alarming. \\n\\nBut I want you to know that we are going to be okay.\\nSource: 5-pl\\nContent: More support for patients and families. \\n\\nTo get there, I call on Congress to fund ARPA-H, the Advanced Research Projects Agency for Health. \\n\\nIt’s based on DARPA—the Defense Department project that led to the Internet, GPS, and so much more.  \\n\\nARPA-H will have a singular purpose—to drive breakthroughs in cancer, Alzheimer’s, diabetes, and more. \\n\\nA unity agenda for the nation. \\n\\nWe can do this. \\n\\nMy fellow Americans—tonight , we have gathered in a sacred space—the citadel of our democracy. \\n\\nIn this Capitol, generation after generation, Americans have debated great questions amid great strife, and have done great things. \\n\\nWe have fought for freedom, expanded liberty, defeated totalitarianism and terror. \\n\\nAnd built the strongest, freest, and most prosperous nation the world has ever known. \\n\\nNow is the hour. \\n\\nOur moment of responsibility. \\n\\nOur test of resolve and conscience, of history itself. \\n\\nIt is in this moment that our character is formed. Our purpose is found. Our future is forged. \\n\\nWell I know this nation.\\nSource: 34-pl\\n=========\\nFINAL ANSWER: The president did not mention Michael Jackson.\\nSOURCES:\\n\\nQUESTION: {question}\\n=========\\n{summaries}\\n=========\\nFINAL ANSWER:'), llm=ChatCohere(client=<cohere.client.Client object at 0x7f7fbffff010>, async_client=<cohere.client.AsyncClient object at 0x7f7fbffff6d0>, cohere_api_key=SecretStr('**********'))), document_prompt=PromptTemplate(input_variables=['page_content', 'source'], template='Content: {page_content}\\nSource: {source}'), document_variable_name='summaries')), document_variable_name='context'), retriever=VectorStoreRetriever(tags=['FAISS', 'CohereEmbeddings'], vectorstore=<langchain_community.vectorstores.faiss.FAISS object at 0x7f7fc002bc70>))"
      ]
     },
     "execution_count": 73,
     "metadata": {},
     "output_type": "execute_result"
    }
   ],
   "source": [
    "chain"
   ]
  },
  {
   "cell_type": "code",
   "execution_count": null,
   "id": "178d7ddc-2462-49a3-8489-1b74ab829149",
   "metadata": {},
   "outputs": [],
   "source": [
    "\n",
    "\n",
    "\n",
    "\n"
   ]
  },
  {
   "cell_type": "code",
   "execution_count": 78,
   "id": "d73d6c30-c92d-4cf5-963d-306d1eafea27",
   "metadata": {},
   "outputs": [],
   "source": [
    "query = \"what is special about Virat Kohli?\"\n",
    "langchain.debug = True"
   ]
  },
  {
   "cell_type": "code",
   "execution_count": 80,
   "id": "fe449da6-7a58-4dfa-8664-e48ce280eb5d",
   "metadata": {},
   "outputs": [],
   "source": [
    "chain({\"question\":query},return_only_outputs=True)"
   ]
  },
  {
   "cell_type": "code",
   "execution_count": null,
   "id": "1850ef49-1361-4800-8190-2c92f0339e3f",
   "metadata": {},
   "outputs": [],
   "source": []
  }
 ],
 "metadata": {
  "kernelspec": {
   "display_name": "Python 3 (ipykernel)",
   "language": "python",
   "name": "python3"
  },
  "language_info": {
   "codemirror_mode": {
    "name": "ipython",
    "version": 3
   },
   "file_extension": ".py",
   "mimetype": "text/x-python",
   "name": "python",
   "nbconvert_exporter": "python",
   "pygments_lexer": "ipython3",
   "version": "3.10.12"
  }
 },
 "nbformat": 4,
 "nbformat_minor": 5
}
